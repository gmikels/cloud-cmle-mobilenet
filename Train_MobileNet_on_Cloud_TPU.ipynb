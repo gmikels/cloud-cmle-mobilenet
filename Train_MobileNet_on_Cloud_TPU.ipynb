{
  "nbformat": 4,
  "nbformat_minor": 0,
  "metadata": {
    "colab": {
      "name": "Train-MobileNet-on-Cloud-TPU.ipynb",
      "version": "0.3.2",
      "provenance": []
    },
    "kernelspec": {
      "display_name": "Python 3",
      "language": "python",
      "name": "python3"
    }
  },
  "cells": [
    {
      "metadata": {
        "id": "Opemc1TGKUwe",
        "colab_type": "text"
      },
      "cell_type": "markdown",
      "source": [
        "**Set Environment Variables**"
      ]
    },
    {
      "metadata": {
        "id": "G1ZA0r7gKUwh",
        "colab_type": "code",
        "colab": {}
      },
      "cell_type": "code",
      "source": [
        "# Use Cell Magic to Set Environment Variables\n",
        "%env PROJECT=your-project-id\n",
        "%env YOUR_GCS_BUCKET=your-bucket-name"
      ],
      "execution_count": 0,
      "outputs": []
    },
    {
      "metadata": {
        "id": "CstP-VhOKUwo",
        "colab_type": "text"
      },
      "cell_type": "markdown",
      "source": [
        "**Install All Dependencies**\n",
        "\n",
        "This tutorial requires the use of Tensorflow Object Detection. \n",
        "https://github.com/tensorflow/models/blob/master/research/object_detection/g3doc/installation.md"
      ]
    },
    {
      "metadata": {
        "id": "z1wDhgl4KUwq",
        "colab_type": "code",
        "colab": {}
      },
      "cell_type": "code",
      "source": [
        "# Install Python Dependencies for Tensorflow Object Detection\n",
        "!pip3 install --user Cython\n",
        "!pip3 install --user contextlib2\n",
        "!pip3 install --user pillow\n",
        "!pip3 install --user lxml\n",
        "!pip3 install --user jupyter\n",
        "!pip3 install --user matplotlib\n",
        "!pip3 install --user tensorflow --upgrade"
      ],
      "execution_count": 0,
      "outputs": []
    },
    {
      "metadata": {
        "id": "SXnGnef9KUwu",
        "colab_type": "code",
        "colab": {}
      },
      "cell_type": "code",
      "source": [
        "# Download Required Source from Github\n",
        "%cd /content/datalab\n",
        "!git clone https://github.com/cocodataset/cocoapi.git\n",
        "!git clone https://github.com/tensorflow/tensorflow.git\n",
        "!git clone https://github.com/tensorflow/models.git"
      ],
      "execution_count": 0,
      "outputs": []
    },
    {
      "metadata": {
        "id": "z2eKmDZxKUwx",
        "colab_type": "code",
        "colab": {}
      },
      "cell_type": "code",
      "source": [
        "# COCO API Installation\n",
        "%cd /content/datalab/cocoapi/PythonAPI\n",
        "!make\n",
        "!cp -r pycocotools /content/datalab/models/research/"
      ],
      "execution_count": 0,
      "outputs": []
    },
    {
      "metadata": {
        "id": "M8Mtirf6KUw0",
        "colab_type": "code",
        "colab": {}
      },
      "cell_type": "code",
      "source": [
        "# Manual protobuf-compiler installation and usage\n",
        "%cd /content/datalab/models/research\n",
        "!wget -O protobuf.zip https://github.com/google/protobuf/releases/download/v3.0.0/protoc-3.0.0-linux-x86_64.zip\n",
        "!unzip protobuf.zip\n",
        "!./bin/protoc object_detection/protos/*.proto --python_out=."
      ],
      "execution_count": 0,
      "outputs": []
    },
    {
      "metadata": {
        "id": "Jz5W9jH8KUw5",
        "colab_type": "code",
        "colab": {}
      },
      "cell_type": "code",
      "source": [
        "# Add Libraries to PYTHONPATH\n",
        "%cd /content/datalab/models/research\n",
        "%env PYTHONPATH=$PYTHONPATH:/content/datalab/models/research:/content/datalab/models/research/slim"
      ],
      "execution_count": 0,
      "outputs": []
    },
    {
      "metadata": {
        "id": "Ov1Hz7PeKUw8",
        "colab_type": "text"
      },
      "cell_type": "markdown",
      "source": [
        "**Testing Tensorflow Object Detection**\n",
        "\n",
        "You should see output similar to this after running the next command.\n",
        "\n",
        "\n",
        "![alt text](https://screenshot.googleplex.com/NQ2CpJVEoGJ.png)\n"
      ]
    },
    {
      "metadata": {
        "id": "u81m7K3KKUw-",
        "colab_type": "code",
        "colab": {}
      },
      "cell_type": "code",
      "source": [
        "# Testing the Installation of Tensorflow Object Detection\n",
        "!python3 -m object_detection.builders.model_builder_test"
      ],
      "execution_count": 0,
      "outputs": []
    },
    {
      "metadata": {
        "id": "z_HgrQn0KUxB",
        "colab_type": "text"
      },
      "cell_type": "markdown",
      "source": [
        "**Setting up the Dataset**\n",
        "\n",
        "To keep things simple, we’ll use a small pet breeds dataset. This dataset includes around 7,400 images — ~200 images for 37 different cat and dog breeds. Each image has an associated annotations file, which includes the bounding box coordinates where the specific pet is located in the image. We can’t feed these images and annotations directly to our model; we need to convert them into a format our model can understand. For this we’ll use the TFRecord format.\n",
        "\n",
        "The Oxford-IIIT Pet data set is located: http://www.robots.ox.ac.uk/~vgg/data/pets/. To download, extract and convert it to TFRecrods, run the following commands below."
      ]
    },
    {
      "metadata": {
        "id": "LgilZrr3KUxD",
        "colab_type": "code",
        "colab": {}
      },
      "cell_type": "code",
      "source": [
        "# Download and Extract Images\n",
        "%cd /content/datalab/models/research\n",
        "!wget http://www.robots.ox.ac.uk/~vgg/data/pets/data/images.tar.gz\n",
        "!wget http://www.robots.ox.ac.uk/~vgg/data/pets/data/annotations.tar.gz\n",
        "!tar -xvf annotations.tar.gz\n",
        "!tar -xvf images.tar.gz"
      ],
      "execution_count": 0,
      "outputs": []
    },
    {
      "metadata": {
        "id": "6kOD8gfRKUxH",
        "colab_type": "code",
        "colab": {}
      },
      "cell_type": "code",
      "source": [
        "# Create TFRecords from Downloaded Images. Note that some examples may be ignored.\n",
        "%cd /content/datalab/models/research\n",
        "!mkdir /content/datalab/preprocess_output\n",
        "!python3 -m object_detection.dataset_tools.create_pet_tf_record\\\n",
        "    --label_map_path=/content/datalab/models/research/object_detection/data/pet_label_map.pbtxt \\\n",
        "    --data_dir=/content/datalab/models/research \\\n",
        "    --output_dir=/content/datalab/preprocess_output"
      ],
      "execution_count": 0,
      "outputs": []
    },
    {
      "metadata": {
        "id": "9VEZ0UXaKUxK",
        "colab_type": "code",
        "colab": {}
      },
      "cell_type": "code",
      "source": [
        "# Copy Data Files to Google Cloud Storage \n",
        "!gsutil -m cp -r /content/datalab/preprocess_output/* gs://$YOUR_GCS_BUCKET/data/\n",
        "!gsutil cp /content/datalab/models/research/object_detection/data/pet_label_map.pbtxt gs://$YOUR_GCS_BUCKET/data/pet_label_map.pbtxt"
      ],
      "execution_count": 0,
      "outputs": []
    },
    {
      "metadata": {
        "id": "ustrkba0KUxM",
        "colab_type": "text"
      },
      "cell_type": "markdown",
      "source": [
        "**Using the SSD MobileNet Checkpoint for Transfer Learning**\n",
        "\n",
        "Training a model to recognize pet breeds from scratch would take thousands of training images for each pet breed and hours or days of training time. To speed this up, we can make use of transfer learning — a process where we take the weights of a model that has already been trained on lots of data to perform a similar task, and then train the model on our own data, fine tuning the layers from the pre-trained model.\n",
        "\n",
        "There are many models we can use that have been trained to recognize a wide variety of objects in images. We can use the checkpoints from these trained models and then apply them to our custom object detection task. This works because, to a machine, the task of identifying the pixels in an image that contain basic objects like tables, chairs, or cats isn’t so different from identifying the pixels in an image that contain specific pet breeds.\n",
        "\n",
        "For this example we’ll use SSD with MobileNet, an object detection model optimized for inference on mobile. First, download and extract the latest MobileNet checkpoint that’s been pretrained on the COCO dataset. To see a list of all the models that the Object Detection API supports, check out the model zoo: https://github.com/tensorflow/models/blob/master/research/object_detection/g3doc/detection_model_zoo.md. Once you’ve extracted the checkpoint, copy the 3 files into your GCS bucket. Run the commands below to download the checkpoint and copy it into your bucket."
      ]
    },
    {
      "metadata": {
        "id": "wit40tzUKUxN",
        "colab_type": "code",
        "colab": {}
      },
      "cell_type": "code",
      "source": [
        "# Copy Model Checkpoints\n",
        "%cd /tmp\n",
        "!curl -O http://download.tensorflow.org/models/object_detection/ssd_mobilenet_v1_0.75_depth_300x300_coco14_sync_2018_07_03.tar.gz\n",
        "!tar xzf ssd_mobilenet_v1_0.75_depth_300x300_coco14_sync_2018_07_03.tar.gz\n",
        "!gsutil cp /tmp/ssd_mobilenet_v1_0.75_depth_300x300_coco14_sync_2018_07_03/model.ckpt.* gs://$YOUR_GCS_BUCKET/data/"
      ],
      "execution_count": 0,
      "outputs": []
    },
    {
      "metadata": {
        "id": "zNbWi9pPKUxQ",
        "colab_type": "text"
      },
      "cell_type": "markdown",
      "source": [
        "**Training a Quantized Model with Cloud TPU on Cloud Machine Learning Engine**\n",
        "\n",
        "Machine learning models have two distinct computational components: training and inference. In this example, we’re making use of Cloud TPUs to accelerate training. There are a few lines in the config file that relate specifically to TPU training. We can use a larger batch size when training on TPUs since they make it easier to handle large datasets (when experimenting with batch size on your own dataset, make sure to use multiples of 8 since data needs to be divided evenly for each of the 8 TPU cores). With a larger batch size for our model, we can reduce the number of training steps (in this example we use 2000). The focal loss function we use for this training job, defined in the following lines in the config, is also a great fit for TPUs.\n",
        "\n",
        "![alt text](https://screenshot.googleplex.com/LkdPseifqst.png)\n",
        "\n",
        "This loss function computes loss for every example in the dataset and then reweights them, assigning more relative weight to hard, misclassified examples. This logic is better suited for TPUs than the hard example mining operation used in other training jobs. You can read more about focal loss here: https://arxiv.org/abs/1708.02002.\n",
        "\n",
        "Recall from above that the process of initializing a pre-trained model checkpoint and then adding our own training data is called transfer learning. The following lines in the config tell our model that we’ll be doing transfer learning for object detection, starting from a pre-trained checkpoint.\n",
        "\n",
        "![alt text](https://screenshot.googleplex.com/OuJ9oNqmaxr.png)\n",
        "\n",
        "We also need to consider how our model will be used after it’s been trained. Let’s say our pet detector becomes a global hit, used by animal lovers and pet stores everywhere. We need a scalable way to handle these inference requests with low latency. The output of a machine learning model is a binary file containing the trained weights of our model — these files are often quite large, but since we’ll be serving this model directly on a mobile device we’ll need to make it as small as possible.\n",
        "\n",
        "This is where model quantization comes in. Quantization compresses the weights and activations in our model to an 8-bit fixed point representation. The following lines in our config file will generate a quantized model:\n",
        "\n",
        "![alt text](https://screenshot.googleplex.com/RQVtBcvFWxo.png)\n",
        "\n",
        "We will download this premade config but take time to examine the contents which will be print after running the commands below.\n",
        "\n",
        "To tell ML Engine where to find our training and test files and model checkpoint, you’ll need to update a few lines in the config file we’ve created for you to point to your bucket. The code below will do this for us.\n",
        "\n",
        "We will download this premade config but take time to examine the contents which will be print after running the commands below. The config file will be uploaded to Google Cloud Storage in the command below for use with Cloud Machine Learning Engine."
      ]
    },
    {
      "metadata": {
        "id": "n332kxrZKUxS",
        "colab_type": "code",
        "colab": {}
      },
      "cell_type": "code",
      "source": [
        "# The sed command is used to replace YOUR-STORAGE-BUCKET \n",
        "# in the config file with the name of your GCS Bucket\n",
        "#!git clone .config\n",
        "!sed -i 's@YOUR-STORAGE-BUCKET@'\"$YOUR_GCS_BUCKET\"'@g' /content/datalab/cloud-cmle-mobilenet/ssd_mobilenet_v1_0.75_depth_quantized_300x300_pets_sync.config\n",
        "!cat /content/datalab/cloud-cmle-mobilenet/ssd_mobilenet_v1_0.75_depth_quantized_300x300_pets_sync.config\n",
        "!gsutil cp /content/datalab/cloud-cmle-mobilenet/ssd_mobilenet_v1_0.75_depth_quantized_300x300_pets_sync.config gs://$YOUR_GCS_BUCKET/data/pipeline.config"
      ],
      "execution_count": 0,
      "outputs": []
    },
    {
      "metadata": {
        "id": "GF9_2bZ7KUxU",
        "colab_type": "text"
      },
      "cell_type": "markdown",
      "source": [
        "Before we kick off our training job on Cloud ML Engine, we need to package the Object Detection API, pycocotools, and TF Slim. We can do that with the following command (run this from the research/ directory, and note that the parentheses are part of the command):"
      ]
    },
    {
      "metadata": {
        "id": "yjXWYTLOKUxV",
        "colab_type": "code",
        "colab": {}
      },
      "cell_type": "code",
      "source": [
        "# Package Files for Training on Cloud Machine Learning Engine\n",
        "%cd /content/datalab/models/research\n",
        "!bash object_detection/dataset_tools/create_pycocotools_package.sh /tmp/pycocotools\n",
        "!python setup.py sdist\n",
        "!(cd slim && python setup.py sdist)"
      ],
      "execution_count": 0,
      "outputs": []
    },
    {
      "metadata": {
        "id": "tK5Ct8eCKUxa",
        "colab_type": "text"
      },
      "cell_type": "markdown",
      "source": [
        "**Start a Training Job on Cloud Machine Learning Engine**\n",
        "\n",
        "We’re ready to train our model! To kick off training, run the following gcloud command.\n",
        "\n",
        "Note that if you receive an error saying that no Cloud TPUs are available, we recommend simply trying again in a different zone (Cloud TPUs are currently available in us-central1-b, us-central1-c, europe-west4-a, and asia-east1-c)."
      ]
    },
    {
      "metadata": {
        "id": "u-Z42q2tKUxa",
        "colab_type": "code",
        "colab": {}
      },
      "cell_type": "code",
      "source": [
        "# Submit Training Job\n",
        "%cd /content/datalab/models/research\n",
        "!gcloud ml-engine jobs submit training `whoami`_object_detection_`date +%s` \\\n",
        "--job-dir=gs://$YOUR_GCS_BUCKET/train \\\n",
        "--packages dist/object_detection-0.1.tar.gz,slim/dist/slim-0.1.tar.gz,/tmp/pycocotools/pycocotools-2.0.tar.gz \\\n",
        "--module-name object_detection.model_tpu_main \\\n",
        "--python-version 3.5 \\\n",
        "--runtime-version 1.9 \\\n",
        "--scale-tier BASIC_TPU \\\n",
        "--region us-central1 \\\n",
        "-- \\\n",
        "--model_dir=gs://$YOUR_GCS_BUCKET/train \\\n",
        "--tpu_zone us-central1 \\\n",
        "--pipeline_config_path=gs://$YOUR_GCS_BUCKET/data/pipeline.config"
      ],
      "execution_count": 0,
      "outputs": []
    },
    {
      "metadata": {
        "id": "rkdrEHBNKUxc",
        "colab_type": "text"
      },
      "cell_type": "markdown",
      "source": [
        "You can view the submitted job in the Google Cloud Console by navigating to **ML Engine > Jobs**. We will continue to the next section without waiting for the job to finish. It will take about 30 minutes.\n",
        "\n",
        "![alt text](https://screenshot.googleplex.com/PNL97SifydR.png)\n"
      ]
    },
    {
      "metadata": {
        "id": "laO6YB3uKUxe",
        "colab_type": "text"
      },
      "cell_type": "markdown",
      "source": [
        "**Install the Bazel Build Tool**\n"
      ]
    },
    {
      "metadata": {
        "id": "-XzF8E5OKUxf",
        "colab_type": "code",
        "colab": {}
      },
      "cell_type": "code",
      "source": [
        "# Download Bazel Installer\n",
        "%cd /content/datalab\n",
        "!wget https://github.com/bazelbuild/bazel/releases/download/0.19.1/bazel-0.19.1-installer-linux-x86_64.sh"
      ],
      "execution_count": 0,
      "outputs": []
    },
    {
      "metadata": {
        "id": "J0lcJzrgKUxk",
        "colab_type": "code",
        "colab": {}
      },
      "cell_type": "code",
      "source": [
        "# Run the installer\n",
        "%cd /content/datalab\n",
        "!chmod +x bazel-0.19.1-installer-linux-x86_64.sh\n",
        "!./bazel-0.19.1-installer-linux-x86_64.sh --user"
      ],
      "execution_count": 0,
      "outputs": []
    },
    {
      "metadata": {
        "id": "kJ7m2BLYKUxr",
        "colab_type": "text"
      },
      "cell_type": "markdown",
      "source": [
        "**Converting the Model to TFLite**"
      ]
    },
    {
      "metadata": {
        "id": "2E291wHSKUxs",
        "colab_type": "text"
      },
      "cell_type": "markdown",
      "source": [
        "Since we are not waiting on the model to finish training, let's the model checkpoints from a model that was previously trained. These checkpoints were included in a git repo we downloaded earlier."
      ]
    },
    {
      "metadata": {
        "id": "AQlMRmohKUxt",
        "colab_type": "code",
        "colab": {}
      },
      "cell_type": "code",
      "source": [
        "# Set Environment Variables\n",
        "CONFIG_FILE=\"gs://$YOUR_GCS_BUCKET/data/pipeline.config\"\n",
        "CHECKPOINT_PATH=\"/content/datalab/cloud-cmle-mobilenet/model_checkpoints/model.ckpt-2000\"\n",
        "OUTPUT_DIR=\"/content/datalab/frozen_graph\"\n",
        "!echo {CONFIG_FILE}"
      ],
      "execution_count": 0,
      "outputs": []
    },
    {
      "metadata": {
        "id": "KKKAU9tAKUxv",
        "colab_type": "code",
        "colab": {}
      },
      "cell_type": "code",
      "source": [
        "# Freeze Tensorflow Graph\n",
        "%env PYTHONPATH=$PYTHONPATH:/content/datalab/models/research:/content/datalab/models/research/slim\n",
        "%cd /content/datalab/models/research\n",
        "!python3 -m object_detection.export_tflite_ssd_graph \\\n",
        "--pipeline_config_path={CONFIG_FILE} \\\n",
        "--trained_checkpoint_prefix={CHECKPOINT_PATH} \\\n",
        "--output_directory={OUTPUT_DIR} \\\n",
        "--add_postprocessing_op=true"
      ],
      "execution_count": 0,
      "outputs": []
    },
    {
      "metadata": {
        "id": "sXVmei24LHcQ",
        "colab_type": "text"
      },
      "cell_type": "markdown",
      "source": [
        "The following command will create the tflite file that can be used for mobile or edge deployment. It will take about 10 minutes to run and is not necessary for completing the lab."
      ]
    },
    {
      "metadata": {
        "id": "7q8AljV5KUx7",
        "colab_type": "code",
        "colab": {}
      },
      "cell_type": "code",
      "source": [
        "# Create TFLite Model File for Mobile Deployment\n",
        "# This command will take about 10 minutes to complete on an 8 core machine.\n",
        "%cd /content/datalab/tensorflow\n",
        "!/content/bin/bazel run -c opt tensorflow/lite/toco:toco -- \\\n",
        "--input_file={OUTPUT_DIR}/tflite_graph.pb \\\n",
        "--output_file=/content/datalab/detect.tflite \\\n",
        "--input_shapes=1,300,300,3 \\\n",
        "--input_arrays=normalized_input_image_tensor \\\n",
        "--output_arrays='TFLite_Detection_PostProcess','TFLite_Detection_PostProcess:1','TFLite_Detection_PostProcess:2','TFLite_Detection_PostProcess:3'  \\\n",
        "--inference_type=QUANTIZED_UINT8 \\\n",
        "--mean_values=128 \\\n",
        "--std_values=128 \\\n",
        "--change_concat_input_ranges=false \\\n",
        "--allow_custom_ops"
      ],
      "execution_count": 0,
      "outputs": []
    },
    {
      "metadata": {
        "id": "zkCIyp3SpHQA",
        "colab_type": "text"
      },
      "cell_type": "markdown",
      "source": [
        "**Test the Inference Using the TFLite Model**\n",
        "\n",
        "Test the tflite model you just exported. Here is information on the inference graph that was exported: https://github.com/tensorflow/models/blob/master/research/object_detection/export_inference_graph.py."
      ]
    },
    {
      "metadata": {
        "id": "BpZaBzwFpiW8",
        "colab_type": "code",
        "colab": {}
      },
      "cell_type": "code",
      "source": [
        "import tensorflow as tf\n",
        "tf.enable_eager_execution()\n",
        "from PIL import Image\n",
        "import numpy as np\n",
        "from resizeimage import resizeimage\n",
        "\n",
        "def load_image_into_numpy_array(image):\n",
        "  image = resizeimage.resize_crop(image, [300, 300])\n",
        "  (im_width, im_height) = image.size\n",
        "  print(image.size)\n",
        "  return np.array(image.getdata()).reshape(\n",
        "      (im_height, im_width, 3)).astype(np.uint8)\n",
        "\n",
        "image = Image.open(\"/content/image1.jpg\")\n",
        "image_np = load_image_into_numpy_array(image)\n",
        "image_np_expanded = np.expand_dims(image_np, axis=0)\n",
        "#print(image_np)\n",
        "\n",
        "mnist_ds = tf.data.Dataset.from_tensor_slices((image_np_expanded)).batch(1)"
      ],
      "execution_count": 0,
      "outputs": []
    },
    {
      "metadata": {
        "id": "r2LlNST_py-P",
        "colab_type": "code",
        "colab": {}
      },
      "cell_type": "code",
      "source": [
        "interpreter = tf.contrib.lite.Interpreter(model_path=\"/content/detect.tflite\")\n",
        "interpreter.allocate_tensors()\n",
        "input_index = interpreter.get_input_details()[0][\"index\"]\n",
        "output_index = interpreter.get_output_details()[3][\"index\"]\n",
        "\n",
        "tf.logging.set_verbosity(tf.logging.DEBUG)\n",
        "interpreter_quant = tf.contrib.lite.Interpreter(model_path=\"/content/detect.tflite\")\n",
        "interpreter_quant.allocate_tensors()\n",
        "input_index = interpreter_quant.get_input_details()[0][\"index\"]\n",
        "output_index = interpreter_quant.get_output_details()[0][\"index\"]"
      ],
      "execution_count": 0,
      "outputs": []
    },
    {
      "metadata": {
        "id": "gpJnc5mmqPYB",
        "colab_type": "code",
        "colab": {}
      },
      "cell_type": "code",
      "source": [
        "for img in mnist_ds.take(1):\n",
        "  break\n",
        "\n",
        "print(img)\n",
        "interpreter.set_tensor(input_index, img)\n",
        "interpreter.invoke()\n",
        "predictions = interpreter.get_tensor(output_index)"
      ],
      "execution_count": 0,
      "outputs": []
    },
    {
      "metadata": {
        "id": "pHj4Y7KnqS6M",
        "colab_type": "code",
        "colab": {}
      },
      "cell_type": "code",
      "source": [
        "import matplotlib.pylab as plt\n",
        "\n",
        "plt.imshow(img[0])\n",
        "template = \"predicted:{predict}\"\n",
        "_ = plt.title(template.format(predict=str(predictions)))\n",
        "plt.grid(False)"
      ],
      "execution_count": 0,
      "outputs": []
    },
    {
      "metadata": {
        "id": "Fk5qL0BzLVBB",
        "colab_type": "text"
      },
      "cell_type": "markdown",
      "source": [
        "**Test the MobileNet Model**\n",
        "\n",
        "Test the MobileNet model that was used for training our custom pet breed detector. The following code will load the model, process test images, run inference, and place the bounding box onto the test images."
      ]
    },
    {
      "metadata": {
        "id": "kVXawgTmKUyG",
        "colab_type": "code",
        "colab": {}
      },
      "cell_type": "code",
      "source": [
        "# This is needed to display the images.\n",
        "%matplotlib inline"
      ],
      "execution_count": 0,
      "outputs": []
    },
    {
      "metadata": {
        "id": "UsqQfeANKUyL",
        "colab_type": "code",
        "colab": {}
      },
      "cell_type": "code",
      "source": [
        "#\n",
        "%cd /content/datalab/models/research\n",
        "from object_detection.utils import ops as utils_ops\n",
        "%cd /content/datalab/models/research/object_detection\n",
        "from utils import label_map_util\n",
        "from utils import visualization_utils as vis_util\n",
        "\n",
        "import os\n",
        "import six.moves.urllib as urllib\n",
        "import tarfile\n",
        "from PIL import Image\n",
        "import numpy as np\n",
        "import tensorflow as tf\n",
        "from matplotlib import pyplot as plt\n"
      ],
      "execution_count": 0,
      "outputs": []
    },
    {
      "metadata": {
        "id": "pvTjLZqNKUyN",
        "colab_type": "code",
        "colab": {}
      },
      "cell_type": "code",
      "source": [
        "# What model to download.\n",
        "MODEL_NAME = 'ssd_mobilenet_v1_coco_2017_11_17'\n",
        "MODEL_FILE = MODEL_NAME + '.tar.gz'\n",
        "DOWNLOAD_BASE = 'http://download.tensorflow.org/models/object_detection/'\n",
        "\n",
        "# Path to frozen detection graph. This is the actual model that is used for the object detection.\n",
        "PATH_TO_FROZEN_GRAPH = MODEL_NAME + '/frozen_inference_graph.pb'\n",
        "\n",
        "# List of the strings that is used to add correct label for each box.\n",
        "PATH_TO_LABELS = os.path.join('data', 'mscoco_label_map.pbtxt')"
      ],
      "execution_count": 0,
      "outputs": []
    },
    {
      "metadata": {
        "id": "C1OgUDAlKUyP",
        "colab_type": "code",
        "colab": {}
      },
      "cell_type": "code",
      "source": [
        "opener = urllib.request.URLopener()\n",
        "opener.retrieve(DOWNLOAD_BASE + MODEL_FILE, MODEL_FILE)\n",
        "tar_file = tarfile.open(MODEL_FILE)\n",
        "for file in tar_file.getmembers():\n",
        "  file_name = os.path.basename(file.name)\n",
        "  if 'frozen_inference_graph.pb' in file_name:\n",
        "    tar_file.extract(file, os.getcwd())"
      ],
      "execution_count": 0,
      "outputs": []
    },
    {
      "metadata": {
        "id": "5i3IcTBIKUyS",
        "colab_type": "code",
        "colab": {}
      },
      "cell_type": "code",
      "source": [
        "detection_graph = tf.Graph()\n",
        "with detection_graph.as_default():\n",
        "  od_graph_def = tf.GraphDef()\n",
        "  with tf.gfile.GFile(PATH_TO_FROZEN_GRAPH, 'rb') as fid:\n",
        "    serialized_graph = fid.read()\n",
        "    od_graph_def.ParseFromString(serialized_graph)\n",
        "    tf.import_graph_def(od_graph_def, name='')"
      ],
      "execution_count": 0,
      "outputs": []
    },
    {
      "metadata": {
        "id": "NhWWnQhgKUyU",
        "colab_type": "code",
        "colab": {}
      },
      "cell_type": "code",
      "source": [
        "category_index = label_map_util.create_category_index_from_labelmap(PATH_TO_LABELS, use_display_name=True)"
      ],
      "execution_count": 0,
      "outputs": []
    },
    {
      "metadata": {
        "id": "tRUt0c5pKUyV",
        "colab_type": "code",
        "colab": {}
      },
      "cell_type": "code",
      "source": [
        "def load_image_into_numpy_array(image):\n",
        "  (im_width, im_height) = image.size\n",
        "  return np.array(image.getdata()).reshape(\n",
        "      (im_height, im_width, 3)).astype(np.uint8)"
      ],
      "execution_count": 0,
      "outputs": []
    },
    {
      "metadata": {
        "id": "rbzR8bvXL64F",
        "colab_type": "text"
      },
      "cell_type": "markdown",
      "source": [
        "Upload 2-3 dog images to test with into Datalab. The images need to be named image1.jpg, image2.jpg, etc..."
      ]
    },
    {
      "metadata": {
        "id": "sku8FJDMKUyX",
        "colab_type": "code",
        "colab": {}
      },
      "cell_type": "code",
      "source": [
        "# For the sake of simplicity we will use only 2 images:\n",
        "# image1.jpg\n",
        "# image2.jpg\n",
        "# If you want to test the code with your images, just add path to the images to the TEST_IMAGE_PATHS.\n",
        "PATH_TO_TEST_IMAGES_DIR = '/content/datalab'\n",
        "TEST_IMAGE_PATHS = [ os.path.join(PATH_TO_TEST_IMAGES_DIR, 'image{}.jpg'.format(i)) for i in range(1, 3) ]\n",
        "\n",
        "# Size, in inches, of the output images.\n",
        "IMAGE_SIZE = (12, 8)"
      ],
      "execution_count": 0,
      "outputs": []
    },
    {
      "metadata": {
        "id": "lDKV4BqmKUyZ",
        "colab_type": "code",
        "colab": {}
      },
      "cell_type": "code",
      "source": [
        "def run_inference_for_single_image(image, graph):\n",
        "  with graph.as_default():\n",
        "    with tf.Session() as sess:\n",
        "      # Get handles to input and output tensors\n",
        "      ops = tf.get_default_graph().get_operations()\n",
        "      all_tensor_names = {output.name for op in ops for output in op.outputs}\n",
        "      tensor_dict = {}\n",
        "      for key in [\n",
        "          'num_detections', 'detection_boxes', 'detection_scores',\n",
        "          'detection_classes', 'detection_masks'\n",
        "      ]:\n",
        "        tensor_name = key + ':0'\n",
        "        if tensor_name in all_tensor_names:\n",
        "          tensor_dict[key] = tf.get_default_graph().get_tensor_by_name(\n",
        "              tensor_name)\n",
        "      if 'detection_masks' in tensor_dict:\n",
        "        # The following processing is only for single image\n",
        "        detection_boxes = tf.squeeze(tensor_dict['detection_boxes'], [0])\n",
        "        detection_masks = tf.squeeze(tensor_dict['detection_masks'], [0])\n",
        "        # Reframe is required to translate mask from box coordinates to image coordinates and fit the image size.\n",
        "        real_num_detection = tf.cast(tensor_dict['num_detections'][0], tf.int32)\n",
        "        detection_boxes = tf.slice(detection_boxes, [0, 0], [real_num_detection, -1])\n",
        "        detection_masks = tf.slice(detection_masks, [0, 0, 0], [real_num_detection, -1, -1])\n",
        "        detection_masks_reframed = utils_ops.reframe_box_masks_to_image_masks(\n",
        "            detection_masks, detection_boxes, image.shape[0], image.shape[1])\n",
        "        detection_masks_reframed = tf.cast(\n",
        "            tf.greater(detection_masks_reframed, 0.5), tf.uint8)\n",
        "        # Follow the convention by adding back the batch dimension\n",
        "        tensor_dict['detection_masks'] = tf.expand_dims(\n",
        "            detection_masks_reframed, 0)\n",
        "      image_tensor = tf.get_default_graph().get_tensor_by_name('image_tensor:0')\n",
        "\n",
        "      # Run inference\n",
        "      output_dict = sess.run(tensor_dict,\n",
        "                             feed_dict={image_tensor: np.expand_dims(image, 0)})\n",
        "\n",
        "      # all outputs are float32 numpy arrays, so convert types as appropriate\n",
        "      output_dict['num_detections'] = int(output_dict['num_detections'][0])\n",
        "      output_dict['detection_classes'] = output_dict[\n",
        "          'detection_classes'][0].astype(np.uint8)\n",
        "      output_dict['detection_boxes'] = output_dict['detection_boxes'][0]\n",
        "      output_dict['detection_scores'] = output_dict['detection_scores'][0]\n",
        "      if 'detection_masks' in output_dict:\n",
        "        output_dict['detection_masks'] = output_dict['detection_masks'][0]\n",
        "  return output_dict"
      ],
      "execution_count": 0,
      "outputs": []
    },
    {
      "metadata": {
        "id": "NVICQR_dKUyc",
        "colab_type": "code",
        "colab": {}
      },
      "cell_type": "code",
      "source": [
        "for image_path in TEST_IMAGE_PATHS:\n",
        "  image = Image.open(image_path)\n",
        "  # the array based representation of the image will be used later in order to prepare the\n",
        "  # result image with boxes and labels on it.\n",
        "  image_np = load_image_into_numpy_array(image)\n",
        "  # Expand dimensions since the model expects images to have shape: [1, None, None, 3]\n",
        "  image_np_expanded = np.expand_dims(image_np, axis=0)\n",
        "  # Actual detection.\n",
        "  output_dict = run_inference_for_single_image(image_np, detection_graph)\n",
        "  # Visualization of the results of a detection.\n",
        "  vis_util.visualize_boxes_and_labels_on_image_array(\n",
        "      image_np,\n",
        "      output_dict['detection_boxes'],\n",
        "      output_dict['detection_classes'],\n",
        "      output_dict['detection_scores'],\n",
        "      category_index,\n",
        "      instance_masks=output_dict.get('detection_masks'),\n",
        "      use_normalized_coordinates=True,\n",
        "      line_thickness=8)\n",
        "  plt.figure(figsize=IMAGE_SIZE)\n",
        "  plt.imshow(image_np)"
      ],
      "execution_count": 0,
      "outputs": []
    }
  ]
}